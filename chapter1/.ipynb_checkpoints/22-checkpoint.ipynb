{
 "cells": [
  {
   "cell_type": "markdown",
   "id": "742c1b91-e22f-4b85-9177-49e75ccc374e",
   "metadata": {},
   "source": [
    "(Computer Experiment.) Suppose we ﬂip a coin n times and let p denote the probability of heads. Let X be the number of heads. We call X a binomial random variable, which is discussed in the next chapter.\n",
    "Intuition suggests that X will be close to n p. To see if this is true, we can repeat this experiment many times and average the X values. Carry out a simulation and compare the average of the X’s to n p. Try this for p = .3 and n = 10, n = 100, and n = 1, 000. \n",
    "\n"
   ]
  },
  {
   "cell_type": "code",
   "execution_count": 2,
   "id": "96985f3f-6acf-476d-a711-6ba757873761",
   "metadata": {},
   "outputs": [
    {
     "data": {
      "text/plain": [
       "{10: {'Average X': 2.97, 'Expected np': 3.0},\n",
       " 100: {'Average X': 30.16, 'Expected np': 30.0},\n",
       " 1000: {'Average X': 301.34, 'Expected np': 300.0}}"
      ]
     },
     "execution_count": 2,
     "metadata": {},
     "output_type": "execute_result"
    }
   ],
   "source": [
    "import numpy as np\n",
    "\n",
    "# Parameters\n",
    "p = 0.3\n",
    "n_values = [10, 100, 1000]\n",
    "num_experiments = 100  # Number of repetitions of the experiment\n",
    "\n",
    "# Dictionary to store the results\n",
    "results = {}\n",
    "\n",
    "# Perform the experiments for each n value\n",
    "for n in n_values:\n",
    "    # Simulate the experiments\n",
    "    X_values = np.random.binomial(n, p, num_experiments)\n",
    "    \n",
    "    # Calculate the average number of heads\n",
    "    average_X = np.mean(X_values)\n",
    "    \n",
    "    # Expected value\n",
    "    expected_value = n * p\n",
    "    \n",
    "    # Store the results\n",
    "    results[n] = {\n",
    "        \"Average X\": average_X,\n",
    "        \"Expected np\": expected_value\n",
    "    }\n",
    "\n",
    "results"
   ]
  },
  {
   "cell_type": "code",
   "execution_count": 3,
   "id": "6e37b0aa-2e63-433a-9152-b156fb1976f3",
   "metadata": {},
   "outputs": [
    {
     "data": {
      "text/plain": [
       "{10: {'Average X': 3.0013, 'Expected np': 3.0},\n",
       " 100: {'Average X': 30.02, 'Expected np': 30.0},\n",
       " 1000: {'Average X': 300.0855, 'Expected np': 300.0}}"
      ]
     },
     "execution_count": 3,
     "metadata": {},
     "output_type": "execute_result"
    }
   ],
   "source": [
    "import numpy as np\n",
    "\n",
    "# Parameters\n",
    "p = 0.3\n",
    "n_values = [10, 100, 1000]\n",
    "num_experiments = 10000  # Number of repetitions of the experiment\n",
    "\n",
    "# Dictionary to store the results\n",
    "results = {}\n",
    "\n",
    "# Perform the experiments for each n value\n",
    "for n in n_values:\n",
    "    # Simulate the experiments\n",
    "    X_values = np.random.binomial(n, p, num_experiments)\n",
    "    \n",
    "    # Calculate the average number of heads\n",
    "    average_X = np.mean(X_values)\n",
    "    \n",
    "    # Expected value\n",
    "    expected_value = n * p\n",
    "    \n",
    "    # Store the results\n",
    "    results[n] = {\n",
    "        \"Average X\": average_X,\n",
    "        \"Expected np\": expected_value\n",
    "    }\n",
    "\n",
    "results\n"
   ]
  },
  {
   "cell_type": "markdown",
   "id": "a05294cc-8c75-4a96-a3ca-f9454b170c7e",
   "metadata": {},
   "source": [
    "the average number of heads (Average X) is very close to the expected value $n p$ in each case. This supports the intuition that the number of heads \n",
    "$𝑋$ will be close to $np$ as \n",
    "$n$ increases."
   ]
  }
 ],
 "metadata": {
  "kernelspec": {
   "display_name": "Python 3 (ipykernel)",
   "language": "python",
   "name": "python3"
  },
  "language_info": {
   "codemirror_mode": {
    "name": "ipython",
    "version": 3
   },
   "file_extension": ".py",
   "mimetype": "text/x-python",
   "name": "python",
   "nbconvert_exporter": "python",
   "pygments_lexer": "ipython3",
   "version": "3.12.4"
  }
 },
 "nbformat": 4,
 "nbformat_minor": 5
}
